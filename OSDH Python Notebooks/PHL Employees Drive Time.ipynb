{
 "cells": [
  {
   "cell_type": "code",
   "execution_count": 1,
   "id": "9a9d180a",
   "metadata": {},
   "outputs": [],
   "source": [
    "import openrouteservice as ors\n",
    "import pandas as pd\n",
    "import requests\n",
    "import warnings\n",
    "from urllib3.exceptions import InsecureRequestWarning\n",
    "\n",
    "#Are code is working, but we need to supress website's expired certificate warning:\n",
    "warnings.simplefilter('ignore', InsecureRequestWarning)\n",
    "\n",
    "#OpenRouteService API key\n",
    "api_key = '5b3ce3597851110001cf6248674dd3584987439a83638a6f102fcd5c'\n",
    "client = ors.Client(key=api_key, requests_kwargs={'verify':False})\n",
    "\n",
    "#Reading in Dateframes\n",
    "worker_list = pd.read_excel('PHL Employee List 2024_02_26.xlsx', sheet_name='PHL Employees')\n",
    "home_addr = pd.read_excel('Employee_Home_Addresses.xlsx')\n",
    "\n",
    "\n",
    "#Merge PHL employee list with their home addresses.\n",
    "merged_df = pd.merge(worker_list, home_addr[['Worker', 'Address 1', 'Address 2', 'City', 'State', 'Postal Code']],\n",
    "                     on='Worker', how='left')\n",
    "#Since PHL is located in Stillwater, we are not intrested in the drive time of employees located in Stillwater.\n",
    "merged_df = merged_df[merged_df['City'].str.lower() != 'stillwater'.lower()]\n",
    "\n",
    "# Extract the first 5 characters from the \"Postal Code\" column\n",
    "merged_df['Postal Code'] = merged_df['Postal Code'].str[:5]\n",
    "\n",
    "\n",
    "#We need to put the addresses together, since they are seperated across multiple fields.\n",
    "def combine_address(row):\n",
    "    address_parts = [#row['Address 1'], row['Address 2'], \n",
    "                     row['City'], row['State'], row['Postal Code']]\n",
    "    # Filter out empty values\n",
    "    non_empty_parts = [part for part in address_parts if pd.notna(part) and part != '']\n",
    "    return ', '.join(non_empty_parts)\n",
    "\n",
    "#Apply combine address function\n",
    "merged_df['Home Address'] = merged_df.apply(combine_address, axis=1)\n",
    "\n",
    "\n",
    "\n",
    "def geocode_address(address):\n",
    "    # Use OpenRouteService Geocoding API to convert address to coordinates\n",
    "    result = client.pelias_search(address)\n",
    "    try:\n",
    "        if result['features']:\n",
    "            # Extract the first result's coordinates\n",
    "            coordinates = result['features'][0]['geometry']['coordinates']\n",
    "            return coordinates\n",
    "        else:\n",
    "            return None\n",
    "    except requests.exceptions.SSLError:\n",
    "        print(\"SSL Certificate verification failed. Skipping geocoding.\")\n",
    "        return None\n",
    "    \n",
    "# Geocode the \"Home Address\" column and create a new column \"Home Coords\"\n",
    "merged_df['Home Coords'] = merged_df['Home Address'].apply(geocode_address)\n",
    "\n",
    "# Display the resulting DataFrame or perform further operations\n",
    "#merged_df"
   ]
  },
  {
   "cell_type": "code",
   "execution_count": 2,
   "id": "f7249fc9",
   "metadata": {},
   "outputs": [],
   "source": [
    "#Set the geolocation of the Public Health Lab.\n",
    "PHL_addr = geocode_address('4615 W Lakeview Rd, Stillwater, OK 74075')\n",
    "#PHL_addr"
   ]
  },
  {
   "cell_type": "code",
   "execution_count": 3,
   "id": "39108c21",
   "metadata": {},
   "outputs": [],
   "source": [
    "#Define function to caculate drive time\n",
    "def calculate_drive_time(home_coords):\n",
    "    try:\n",
    "        # Get directions using OpenRouteService API\n",
    "        route = client.directions(coordinates=[home_coords, PHL_addr], profile='driving-car', format='geojson')\n",
    "        \n",
    "        # Extract and return the duration of the route\n",
    "        drive_time_seconds = route['features'][0]['properties']['segments'][0]['duration']\n",
    "        drive_time_minutes = drive_time_seconds // 60\n",
    "        return drive_time_minutes\n",
    "    except:\n",
    "        return None\n",
    "        \n",
    "    #return route\n",
    "# Apply the function to each row to create the \"Drive_Time\" column\n",
    "merged_df['Drive_Time'] = merged_df['Home Coords'].apply(calculate_drive_time)\n",
    "#merged_df"
   ]
  },
  {
   "cell_type": "code",
   "execution_count": 4,
   "id": "5483b8cf",
   "metadata": {},
   "outputs": [],
   "source": [
    "selected_columns = ['Worker', 'Employee ID', 'Home Address', 'Home Coords', 'Drive_Time']\n",
    "final_df = merged_df[selected_columns]\n",
    "#final_df"
   ]
  },
  {
   "cell_type": "code",
   "execution_count": 5,
   "id": "75725ffa",
   "metadata": {},
   "outputs": [],
   "source": [
    "# Save the DataFrame to an Excel file\n",
    "excel_file_path = 'PHL_Drive_Time.xlsx'\n",
    "final_df.to_excel(excel_file_path, sheet_name='Drive_Time', index=False)"
   ]
  }
 ],
 "metadata": {
  "kernelspec": {
   "display_name": "Python 3 (ipykernel)",
   "language": "python",
   "name": "python3"
  },
  "language_info": {
   "codemirror_mode": {
    "name": "ipython",
    "version": 3
   },
   "file_extension": ".py",
   "mimetype": "text/x-python",
   "name": "python",
   "nbconvert_exporter": "python",
   "pygments_lexer": "ipython3",
   "version": "3.11.8"
  }
 },
 "nbformat": 4,
 "nbformat_minor": 5
}
